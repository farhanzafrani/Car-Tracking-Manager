{
  "nbformat": 4,
  "nbformat_minor": 0,
  "metadata": {
    "colab": {
      "name": "Car_tracking.ipynb",
      "provenance": [],
      "collapsed_sections": []
    },
    "kernelspec": {
      "name": "python3",
      "display_name": "Python 3"
    },
    "language_info": {
      "name": "python"
    }
  },
  "cells": [
    {
      "cell_type": "markdown",
      "source": [
        "## Import Libraries"
      ],
      "metadata": {
        "id": "M053TuOQ3xvR"
      }
    },
    {
      "cell_type": "code",
      "execution_count": 9,
      "metadata": {
        "id": "kLym4Fj3zP--"
      },
      "outputs": [],
      "source": [
        "\n",
        "import cv2 as cv\n",
        "from tracker import *\n",
        "import sys\n"
      ]
    },
    {
      "cell_type": "markdown",
      "source": [
        "## Create tracker object"
      ],
      "metadata": {
        "id": "RvrGV-5Y3fj9"
      }
    },
    {
      "cell_type": "code",
      "source": [
        "\n",
        "tracker = EuclideanDistTracker()"
      ],
      "metadata": {
        "id": "5PvSo6AwzVlx"
      },
      "execution_count": 10,
      "outputs": []
    },
    {
      "cell_type": "markdown",
      "source": [
        "## object detector "
      ],
      "metadata": {
        "id": "1Lus0yVR323r"
      }
    },
    {
      "cell_type": "code",
      "source": [
        "\n",
        "object_detector = cv.createBackgroundSubtractorMOG2(history=100, varThreshold=50)"
      ],
      "metadata": {
        "id": "7FD66SDezhFx"
      },
      "execution_count": 11,
      "outputs": []
    },
    {
      "cell_type": "code",
      "source": [
        "# load the Vodeo from the directry\n",
        "url = '/content/highway.mp4'"
      ],
      "metadata": {
        "id": "qYE8bTc_zmPd"
      },
      "execution_count": 16,
      "outputs": []
    },
    {
      "cell_type": "code",
      "source": [
        "# check for the video\n",
        "video = cv.VideoCapture(url)\n",
        "if video is None:\n",
        "    print(\"Can't load image, please check the path\", file=sys.stderr)\n",
        "    sys.exit(1)"
      ],
      "metadata": {
        "id": "zLrOZwIizpcv"
      },
      "execution_count": 17,
      "outputs": []
    },
    {
      "cell_type": "markdown",
      "source": [
        "## Reading the moving objects data"
      ],
      "metadata": {
        "id": "PJ7AgHqg38qg"
      }
    },
    {
      "cell_type": "code",
      "source": [
        "\n",
        "while True:\n",
        "    success , frame =video.read()\n",
        "    height, width, _ = frame.shape\n",
        "    # print(height,width)\n",
        "    \n",
        "    # Extract Region of interest(roi)\n",
        "    roi = frame[340: 720,500: 800]\n",
        "    # apply Mask\n",
        "    mask = object_detector.apply(roi)\n",
        "    \n",
        "    _, mask = cv.threshold(mask, 254, 255, cv.THRESH_BINARY)\n",
        "    contours, _ = cv.findContours(mask, cv.RETR_TREE, cv.CHAIN_APPROX_SIMPLE)\n",
        "    detections = []\n",
        "    for cnt in contours:\n",
        "        # Calculate area and remove small elements\n",
        "        area = cv.contourArea(cnt)\n",
        "        if area > 100:\n",
        "            #cv2.drawContours(roi, [cnt], -1, (0, 255, 0), 2)\n",
        "            x, y, w, h = cv.boundingRect(cnt)\n",
        "            detections.append([x, y, w, h])\n",
        "             "
      ],
      "metadata": {
        "id": "iuqiq1w3zttz"
      },
      "execution_count": 23,
      "outputs": []
    },
    {
      "cell_type": "markdown",
      "source": [
        "## 2. Object Tracking"
      ],
      "metadata": {
        "id": "ttdZh1yN44Iy"
      }
    },
    {
      "cell_type": "markdown",
      "source": [
        ""
      ],
      "metadata": {
        "id": "GKKOmC5d44CC"
      }
    },
    {
      "cell_type": "code",
      "source": [
        "\n",
        "    \n",
        "    boxes_ids = tracker.update(detections)\n",
        "    for box_id in boxes_ids:\n",
        "        x, y, w, h, id = box_id\n",
        "        cv.putText(roi, str(id), (x, y - 10), cv.FONT_HERSHEY_PLAIN, 2, (255, 0, 0), 2)\n",
        "        cv.rectangle(roi, (x, y), (x + w, y + h), (0, 255, 0), 3)\n"
      ],
      "metadata": {
        "id": "ZbJIr6MCz9zf"
      },
      "execution_count": null,
      "outputs": []
    },
    {
      "cell_type": "markdown",
      "source": [
        "## show the results"
      ],
      "metadata": {
        "id": "om160Ax94z8r"
      }
    },
    {
      "cell_type": "code",
      "source": [
        "\n",
        "\n",
        "cv.imshow('rio',rio)\n",
        "cv.imshow('mask',mask)\n",
        "cv.imshow('video',frame)\n",
        "key = cv.waitKey(30)\n",
        "    \n",
        "    if key & 0xff == ord('q'):\n",
        "        break\n",
        "        \n",
        "           \n",
        "video.release()\n",
        "cv.destroyAllWindows()   "
      ],
      "metadata": {
        "id": "n0qGxrAP0oY7"
      },
      "execution_count": null,
      "outputs": []
    }
  ]
}